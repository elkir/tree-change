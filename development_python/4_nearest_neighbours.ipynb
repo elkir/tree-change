{
 "cells": [
  {
   "cell_type": "code",
   "execution_count": 3,
   "metadata": {
    "collapsed": true
   },
   "outputs": [],
   "source": [
    "\n",
    "from osgeo import gdal"
   ]
  },
  {
   "cell_type": "code",
   "execution_count": 1,
   "outputs": [],
   "source": [
    "years = [2013,2014]\n",
    "ws = [20]"
   ],
   "metadata": {
    "collapsed": false,
    "pycharm": {
     "name": "#%%\n"
    }
   }
  },
  {
   "cell_type": "code",
   "execution_count": null,
   "outputs": [],
   "source": [
    "dir_data = \"../Data/lidar\"\n",
    "\n",
    "dir_chm = f\"{dir_data}/raster\"\n",
    "dir_treetops = [f\"{dir_data}/vector/treetops/{year}\" for year in years]\n",
    "\n",
    "dir_crowns = [f\"{dir_data}/raster/crown/{year}\" for year in years]\n",
    "\n",
    "#\n",
    "# filename_crowns_index <- paste(dir_data,\"raster\",\"crowns\",\"index.txt\",sep=\"/\")\n",
    "# filename_crowns_errors <- paste(dir_data,\"raster\",\"crowns\",\"errors.txt\",sep=\"/\")"
   ],
   "metadata": {
    "collapsed": false,
    "pycharm": {
     "name": "#%%\n"
    }
   }
  },
  {
   "cell_type": "code",
   "execution_count": 5,
   "outputs": [
    {
     "name": "stdout",
     "output_type": "stream",
     "text": [
      "a\n"
     ]
    }
   ],
   "source": [],
   "metadata": {
    "collapsed": false,
    "pycharm": {
     "name": "#%%\n"
    }
   }
  }
 ],
 "metadata": {
  "kernelspec": {
   "display_name": "Python 3",
   "language": "python",
   "name": "python3"
  },
  "language_info": {
   "codemirror_mode": {
    "name": "ipython",
    "version": 2
   },
   "file_extension": ".py",
   "mimetype": "text/x-python",
   "name": "python",
   "nbconvert_exporter": "python",
   "pygments_lexer": "ipython2",
   "version": "2.7.6"
  }
 },
 "nbformat": 4,
 "nbformat_minor": 0
}